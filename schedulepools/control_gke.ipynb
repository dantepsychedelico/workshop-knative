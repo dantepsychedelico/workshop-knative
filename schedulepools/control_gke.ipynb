{
 "cells": [
  {
   "cell_type": "code",
   "execution_count": 1,
   "metadata": {},
   "outputs": [],
   "source": [
    "%load_ext dotenv\n",
    "# Use find_dotenv to locate the file\n",
    "%dotenv"
   ]
  },
  {
   "cell_type": "code",
   "execution_count": 4,
   "metadata": {},
   "outputs": [],
   "source": [
    "%reload_ext dotenv\n",
    "# %dotenv -o .env.prod\n",
    "%dotenv -o"
   ]
  },
  {
   "cell_type": "code",
   "execution_count": 2,
   "metadata": {},
   "outputs": [],
   "source": [
    "import os\n",
    "from google.cloud import container_v1, dns\n",
    "from googleapiclient import discovery\n",
    "import pydash"
   ]
  },
  {
   "cell_type": "code",
   "execution_count": 3,
   "metadata": {},
   "outputs": [],
   "source": [
    "client = container_v1.ClusterManagerClient()\n",
    "\n",
    "project_id = 'zac-chung-dev'\n",
    "zone = 'asia-east1-a'\n",
    "cluster_id = 'workshop-knative'\n",
    "\n",
    "response = client.get_cluster(project_id, zone, cluster_id)"
   ]
  },
  {
   "cell_type": "code",
   "execution_count": 21,
   "metadata": {},
   "outputs": [
    {
     "data": {
      "text/plain": [
       "name: \"default-pool\"\n",
       "config {\n",
       "  machine_type: \"n1-standard-4\"\n",
       "  disk_size_gb: 30\n",
       "  oauth_scopes: \"https://www.googleapis.com/auth/cloud-platform\"\n",
       "  metadata {\n",
       "    key: \"disable-legacy-endpoints\"\n",
       "    value: \"true\"\n",
       "  }\n",
       "  image_type: \"COS\"\n",
       "  service_account: \"default\"\n",
       "  preemptible: true\n",
       "  disk_type: \"pd-standard\"\n",
       "}\n",
       "initial_node_count: 1\n",
       "autoscaling {\n",
       "  enabled: true\n",
       "  min_node_count: 1\n",
       "  max_node_count: 3\n",
       "}\n",
       "management {\n",
       "  auto_repair: true\n",
       "}\n",
       "self_link: \"https://container.googleapis.com/v1/projects/zac-chung-dev/zones/asia-east1-a/clusters/workshop-knative/nodePools/default-pool\"\n",
       "version: \"1.14.6-gke.1\"\n",
       "instance_group_urls: \"https://www.googleapis.com/compute/v1/projects/zac-chung-dev/zones/asia-east1-a/instanceGroupManagers/gke-workshop-knative-default-pool-825bb779-grp\"\n",
       "status: RUNNING"
      ]
     },
     "execution_count": 21,
     "metadata": {},
     "output_type": "execute_result"
    }
   ],
   "source": [
    "client.get_node_pool(project_id, zone, cluster_id, response.node_pools[0].name)"
   ]
  },
  {
   "cell_type": "code",
   "execution_count": 17,
   "metadata": {},
   "outputs": [
    {
     "data": {
      "text/plain": [
       "name: \"operation-1570377090645-35dbda31\"\n",
       "zone: \"asia-east1-a\"\n",
       "operation_type: CREATE_NODE_POOL\n",
       "status: RUNNING\n",
       "self_link: \"https://container.googleapis.com/v1/projects/347397173885/zones/asia-east1-a/operations/operation-1570377090645-35dbda31\"\n",
       "target_link: \"https://container.googleapis.com/v1/projects/347397173885/zones/asia-east1-a/clusters/workshop-knative/nodePools/default-pool\"\n",
       "start_time: \"2019-10-06T15:51:30.645998157Z\""
      ]
     },
     "execution_count": 17,
     "metadata": {},
     "output_type": "execute_result"
    }
   ],
   "source": [
    "client.create_node_pool(project_id, zone, cluster_id, {\n",
    "    'name': 'default-pool',\n",
    "    'config': {\n",
    "        'machine_type': 'n1-standard-4',\n",
    "        'disk_size_gb': 30,\n",
    "        'preemptible': True,\n",
    "        'oauth_scopes': ('https://www.googleapis.com/auth/cloud-platform',)\n",
    "    },\n",
    "    'initial_node_count': 1,\n",
    "    'autoscaling': {\n",
    "        'enabled': True,\n",
    "        'min_node_count': 1,\n",
    "        'max_node_count': 3,\n",
    "    },\n",
    "    'management': {\n",
    "        'auto_repair': True,\n",
    "    },\n",
    "})"
   ]
  },
  {
   "cell_type": "code",
   "execution_count": 10,
   "metadata": {
    "scrolled": false
   },
   "outputs": [
    {
     "data": {
      "text/plain": [
       "name: \"operation-1570376161087-f370c458\"\n",
       "zone: \"asia-east1-a\"\n",
       "operation_type: DELETE_NODE_POOL\n",
       "status: RUNNING\n",
       "self_link: \"https://container.googleapis.com/v1/projects/347397173885/zones/asia-east1-a/operations/operation-1570376161087-f370c458\"\n",
       "target_link: \"https://container.googleapis.com/v1/projects/347397173885/zones/asia-east1-a/clusters/workshop-knative/nodePools/default-pool\"\n",
       "start_time: \"2019-10-06T15:36:01.087878148Z\""
      ]
     },
     "execution_count": 10,
     "metadata": {},
     "output_type": "execute_result"
    }
   ],
   "source": [
    "client.delete_node_pool(project_id, zone, cluster_id, 'default-pool')"
   ]
  },
  {
   "cell_type": "code",
   "execution_count": 14,
   "metadata": {},
   "outputs": [],
   "source": [
    "api = compute.networks()"
   ]
  },
  {
   "cell_type": "code",
   "execution_count": 46,
   "metadata": {},
   "outputs": [],
   "source": [
    "dns_client = dns.Client(project=project_id)"
   ]
  },
  {
   "cell_type": "code",
   "execution_count": 79,
   "metadata": {},
   "outputs": [],
   "source": [
    "aa = dns_client.list_zones()"
   ]
  },
  {
   "cell_type": "code",
   "execution_count": 86,
   "metadata": {},
   "outputs": [],
   "source": [
    "mz = dns_client.zone(name='base1618-dev', dns_name='base1618-dev.com.')"
   ]
  },
  {
   "cell_type": "code",
   "execution_count": 85,
   "metadata": {},
   "outputs": [
    {
     "data": {
      "text/plain": [
       "('base1618-dev', 'base1618-dev.com.')"
      ]
     },
     "execution_count": 85,
     "metadata": {},
     "output_type": "execute_result"
    }
   ],
   "source": [
    "mz.name, mz.dns_name"
   ]
  },
  {
   "cell_type": "code",
   "execution_count": 90,
   "metadata": {},
   "outputs": [],
   "source": [
    "mz.create?"
   ]
  },
  {
   "cell_type": "code",
   "execution_count": 106,
   "metadata": {},
   "outputs": [],
   "source": [
    "mz_rs = list(mz.list_resource_record_sets())"
   ]
  },
  {
   "cell_type": "code",
   "execution_count": 107,
   "metadata": {},
   "outputs": [
    {
     "data": {
      "text/plain": [
       "['base1618-dev.com.',\n",
       " 'base1618-dev.com.',\n",
       " '*.default.knative.base1618-dev.com.']"
      ]
     },
     "execution_count": 107,
     "metadata": {},
     "output_type": "execute_result"
    }
   ],
   "source": [
    "[row.name for row in mz_rs]"
   ]
  },
  {
   "cell_type": "code",
   "execution_count": 76,
   "metadata": {},
   "outputs": [],
   "source": [
    "bb = mz_rs[2]"
   ]
  },
  {
   "cell_type": "code",
   "execution_count": 103,
   "metadata": {},
   "outputs": [
    {
     "data": {
      "text/plain": [
       "[{'name': 'base1618-dev.com.',\n",
       "  'record_type': 'NS',\n",
       "  'ttl': 21600,\n",
       "  'rrdatas': ['ns-cloud-a1.googledomains.com.',\n",
       "   'ns-cloud-a2.googledomains.com.',\n",
       "   'ns-cloud-a3.googledomains.com.',\n",
       "   'ns-cloud-a4.googledomains.com.'],\n",
       "  'zone': <google.cloud.dns.zone.ManagedZone at 0x10f0b06d0>},\n",
       " {'name': 'base1618-dev.com.',\n",
       "  'record_type': 'SOA',\n",
       "  'ttl': 21600,\n",
       "  'rrdatas': ['ns-cloud-a1.googledomains.com. cloud-dns-hostmaster.google.com. 1 21600 3600 259200 300'],\n",
       "  'zone': <google.cloud.dns.zone.ManagedZone at 0x10f0b06d0>},\n",
       " {'name': '*.default.knative.base1618-dev.com.',\n",
       "  'record_type': 'A',\n",
       "  'ttl': 300,\n",
       "  'rrdatas': ['35.185.132.252'],\n",
       "  'zone': <google.cloud.dns.zone.ManagedZone at 0x10f0b06d0>}]"
      ]
     },
     "execution_count": 103,
     "metadata": {},
     "output_type": "execute_result"
    }
   ],
   "source": [
    "[row.__dict__ for row in mz_rs]"
   ]
  },
  {
   "cell_type": "code",
   "execution_count": 100,
   "metadata": {},
   "outputs": [
    {
     "data": {
      "text/plain": [
       "['NS', 'SOA', 'A']"
      ]
     },
     "execution_count": 100,
     "metadata": {},
     "output_type": "execute_result"
    }
   ],
   "source": [
    "[row.record_type for row in mz_rs]"
   ]
  },
  {
   "cell_type": "code",
   "execution_count": 94,
   "metadata": {},
   "outputs": [],
   "source": [
    "dns_change = mz.changes()"
   ]
  }
 ],
 "metadata": {
  "kernelspec": {
   "display_name": "Python 3",
   "language": "python",
   "name": "python3"
  },
  "language_info": {
   "codemirror_mode": {
    "name": "ipython",
    "version": 3
   },
   "file_extension": ".py",
   "mimetype": "text/x-python",
   "name": "python",
   "nbconvert_exporter": "python",
   "pygments_lexer": "ipython3",
   "version": "3.7.4"
  }
 },
 "nbformat": 4,
 "nbformat_minor": 2
}
